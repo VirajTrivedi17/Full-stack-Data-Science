{
 "cells": [
  {
   "cell_type": "markdown",
   "metadata": {},
   "source": [
    "### 1. Write a Python program to convert kilometers to miles?"
   ]
  },
  {
   "cell_type": "code",
   "execution_count": 2,
   "metadata": {},
   "outputs": [
    {
     "name": "stdout",
     "output_type": "stream",
     "text": [
      "5 km is equal to 3.106855miles.\n"
     ]
    }
   ],
   "source": [
    "\n",
    "def km_to_miles(km):\n",
    "    miles = km*0.621371\n",
    "    print(\"{} km is equal to {}miles.\".format(km,miles))\n",
    "\n",
    "a = km_to_miles(5)"
   ]
  },
  {
   "cell_type": "markdown",
   "metadata": {},
   "source": [
    "# 2. Write a Python program to convert Celsius to Fahrenheit?"
   ]
  },
  {
   "cell_type": "code",
   "execution_count": 3,
   "metadata": {},
   "outputs": [
    {
     "name": "stdout",
     "output_type": "stream",
     "text": [
      "Enter celcius: 15\n",
      "59.0\n"
     ]
    }
   ],
   "source": [
    "celcius = int(input(\"Enter celcius: \"))\n",
    "fahrenheit = (celcius * (9/5)) + 32 \n",
    "print(fahrenheit)"
   ]
  },
  {
   "cell_type": "markdown",
   "metadata": {},
   "source": [
    "# 3. Write a Python program to display calendar?"
   ]
  },
  {
   "cell_type": "code",
   "execution_count": 4,
   "metadata": {},
   "outputs": [
    {
     "name": "stdout",
     "output_type": "stream",
     "text": [
      "Enter year = 2021\n",
      "Enter month in number = 11\n",
      "   November 2021\n",
      "Mo Tu We Th Fr Sa Su\n",
      " 1  2  3  4  5  6  7\n",
      " 8  9 10 11 12 13 14\n",
      "15 16 17 18 19 20 21\n",
      "22 23 24 25 26 27 28\n",
      "29 30\n",
      "\n"
     ]
    }
   ],
   "source": [
    "import calendar\n",
    "yy = int(input(\"Enter year = \"))\n",
    "mm = int(input(\"Enter month in number = \"))\n",
    "print(calendar.month(yy,mm))"
   ]
  },
  {
   "cell_type": "markdown",
   "metadata": {},
   "source": [
    "# 4. Write a Python program to solve quadratic equation?"
   ]
  },
  {
   "cell_type": "code",
   "execution_count": 6,
   "metadata": {},
   "outputs": [
    {
     "name": "stdout",
     "output_type": "stream",
     "text": [
      "Enter num1 = 4\n",
      "Enter num2 = 5\n",
      "Enter num3 = 6\n",
      "(-0.625+1.0532687216470449j) , (-0.625-1.0532687216470449j)\n"
     ]
    }
   ],
   "source": [
    "# Formula:\n",
    "# x=-b+-sqrt(b**2-4ac)/2*a\n",
    "import cmath\n",
    "num1=int(input(\"Enter num1 = \"))\n",
    "num2=int(input(\"Enter num2 = \"))\n",
    "num3=int(input(\"Enter num3 = \"))\n",
    "discriminant = (num2**2)-(4*num1*num3)\n",
    "sol1 = (-num2+cmath.sqrt(discriminant))/(2*num1)\n",
    "sol2 = (-num2-cmath.sqrt(discriminant))/(2*num1)\n",
    "print(sol1 ,\",\", sol2)"
   ]
  },
  {
   "cell_type": "markdown",
   "metadata": {},
   "source": [
    "### 5. Write a Python program to swap two variables without temp variable?"
   ]
  },
  {
   "cell_type": "code",
   "execution_count": 7,
   "metadata": {},
   "outputs": [
    {
     "name": "stdout",
     "output_type": "stream",
     "text": [
      "Enter 1st number : 3\n",
      "Enter 2nd number : 5\n",
      "Before Swap :\n",
      "first_var: 3\n",
      "second_var: 5 \n",
      "After Swap :\n",
      "first_var: 5\n",
      "second_var: 3 \n"
     ]
    }
   ],
   "source": [
    "first_var = int(input(\"Enter 1st number : \"))\n",
    "second_var = int(input(\"Enter 2nd number : \"))\n",
    "print(\"Before Swap :\\nfirst_var: {}\\nsecond_var: {} \".format(first_var , second_var))\n",
    "first_var,second_var=second_var,first_var\n",
    "print(\"After Swap :\\nfirst_var: {}\\nsecond_var: {} \".format(first_var , second_var))"
   ]
  },
  {
   "cell_type": "code",
   "execution_count": null,
   "metadata": {},
   "outputs": [],
   "source": []
  }
 ],
 "metadata": {
  "kernelspec": {
   "display_name": "Python 3",
   "language": "python",
   "name": "python3"
  },
  "language_info": {
   "codemirror_mode": {
    "name": "ipython",
    "version": 3
   },
   "file_extension": ".py",
   "mimetype": "text/x-python",
   "name": "python",
   "nbconvert_exporter": "python",
   "pygments_lexer": "ipython3",
   "version": "3.8.5"
  }
 },
 "nbformat": 4,
 "nbformat_minor": 4
}
