{
 "cells": [
  {
   "cell_type": "markdown",
   "metadata": {},
   "source": [
    "### Q.1 Write a Python program to print \"Hello Python\"?"
   ]
  },
  {
   "cell_type": "code",
   "execution_count": 2,
   "metadata": {},
   "outputs": [
    {
     "name": "stdout",
     "output_type": "stream",
     "text": [
      "Enter Input: Hello Python\n",
      "Hello Python\n"
     ]
    }
   ],
   "source": [
    "xyz = input(\"Enter Input: \")\n",
    "print(xyz)"
   ]
  },
  {
   "cell_type": "code",
   "execution_count": 3,
   "metadata": {},
   "outputs": [
    {
     "name": "stdout",
     "output_type": "stream",
     "text": [
      "Hello Python\n"
     ]
    }
   ],
   "source": [
    "print('Hello Python')"
   ]
  },
  {
   "cell_type": "markdown",
   "metadata": {},
   "source": [
    "### Q.2 Write a Python program to do arithmetical operations addition and division.?"
   ]
  },
  {
   "cell_type": "code",
   "execution_count": 4,
   "metadata": {},
   "outputs": [
    {
     "name": "stdout",
     "output_type": "stream",
     "text": [
      "Enter Num_1: 8\n",
      "Enter Num_2: 9\n",
      "Enter Operation: addition\n",
      "addition is  17\n"
     ]
    }
   ],
   "source": [
    "num1 = int(input(\"Enter Num_1: \"))\n",
    "num2 = int(input(\"Enter Num_2: \"))\n",
    "ops = input(\"Enter Operation: \")\n",
    "if ops == \"addition\":\n",
    "    c = num1+num2\n",
    "    print(\"addition is \",c)\n",
    "elif ops == \"division\":\n",
    "    d = num1/num2\n",
    "    print(\"Division is \",d)\n",
    "else:\n",
    "    print(\"Enter correct operation\")"
   ]
  },
  {
   "cell_type": "code",
   "execution_count": 5,
   "metadata": {},
   "outputs": [
    {
     "name": "stdout",
     "output_type": "stream",
     "text": [
      "Enter Num_1: 48\n",
      "Enter Num_2: 6\n",
      "Enter Operation: division\n",
      "Division is  8.0\n"
     ]
    }
   ],
   "source": [
    "num1 = int(input(\"Enter Num_1: \"))\n",
    "num2 = int(input(\"Enter Num_2: \"))\n",
    "ops = input(\"Enter Operation: \")\n",
    "if ops == \"addition\":\n",
    "    c = num1+num2\n",
    "    print(\"addition is \",c)\n",
    "elif ops == \"division\":\n",
    "    d = num1/num2\n",
    "    print(\"Division is \",d)\n",
    "else:\n",
    "    print(\"Enter correct operation\")"
   ]
  },
  {
   "cell_type": "code",
   "execution_count": null,
   "metadata": {},
   "outputs": [],
   "source": []
  },
  {
   "cell_type": "markdown",
   "metadata": {},
   "source": [
    "### Q.3 Write a Python program to find the area of a triangle?"
   ]
  },
  {
   "cell_type": "code",
   "execution_count": 6,
   "metadata": {},
   "outputs": [
    {
     "name": "stdout",
     "output_type": "stream",
     "text": [
      "31.5\n"
     ]
    }
   ],
   "source": [
    "def area_of_triangle(base,height):\n",
    "    area = (base*height)/2\n",
    "    print(area)\n",
    "    \n",
    "area = area_of_triangle(7,9)"
   ]
  },
  {
   "cell_type": "markdown",
   "metadata": {},
   "source": [
    "### Q.4 Write a Python program to swap two variables?"
   ]
  },
  {
   "cell_type": "code",
   "execution_count": 7,
   "metadata": {},
   "outputs": [
    {
     "name": "stdout",
     "output_type": "stream",
     "text": [
      "Enter 1st number : 7\n",
      "Enter 2nd number : 18\n",
      "Before Swap :\n",
      "num_1: 7\n",
      "num_2: 18 \n",
      "After Swap :\n",
      "num_1: 18\n",
      "num_2: 7 \n"
     ]
    }
   ],
   "source": [
    "num_1 = int(input(\"Enter 1st number : \"))\n",
    "num_2 = int(input(\"Enter 2nd number : \"))\n",
    "print(\"Before Swap :\\nnum_1: {}\\nnum_2: {} \".format(num_1 , num_2))\n",
    "num_1,num_2=num_2,num_1\n",
    "print(\"After Swap :\\nnum_1: {}\\nnum_2: {} \".format(num_1 , num_2))"
   ]
  },
  {
   "cell_type": "markdown",
   "metadata": {},
   "source": [
    "### Q.5 Write a Python program to generate a random number?"
   ]
  },
  {
   "cell_type": "code",
   "execution_count": 11,
   "metadata": {},
   "outputs": [
    {
     "name": "stdout",
     "output_type": "stream",
     "text": [
      "Enter Min number : 3\n",
      "Enter Max number : 50\n",
      "39\n"
     ]
    }
   ],
   "source": [
    "import random\n",
    "a=int(input(\"Enter Min number : \"))\n",
    "b=int(input(\"Enter Max number : \"))\n",
    "print(random.randint(a,b))"
   ]
  },
  {
   "cell_type": "code",
   "execution_count": null,
   "metadata": {},
   "outputs": [],
   "source": []
  }
 ],
 "metadata": {
  "kernelspec": {
   "display_name": "Python 3",
   "language": "python",
   "name": "python3"
  },
  "language_info": {
   "codemirror_mode": {
    "name": "ipython",
    "version": 3
   },
   "file_extension": ".py",
   "mimetype": "text/x-python",
   "name": "python",
   "nbconvert_exporter": "python",
   "pygments_lexer": "ipython3",
   "version": "3.8.5"
  }
 },
 "nbformat": 4,
 "nbformat_minor": 4
}
