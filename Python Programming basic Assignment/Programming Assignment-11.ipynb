{
 "cells": [
  {
   "cell_type": "markdown",
   "metadata": {},
   "source": [
    "### 1. Write a Python program to find words which are greater than given length k?"
   ]
  },
  {
   "cell_type": "code",
   "execution_count": 1,
   "metadata": {},
   "outputs": [],
   "source": [
    "def greaterthan(sentence):\n",
    "    words_list = []\n",
    "    split = sentence.split(\" \")\n",
    "    print(split)\n",
    "    k = int(input(\"Enter length: \"))\n",
    "    for i in split:\n",
    "        if len(i)>k:\n",
    "            words_list.append(i)\n",
    "    return words_list    "
   ]
  },
  {
   "cell_type": "code",
   "execution_count": 2,
   "metadata": {},
   "outputs": [
    {
     "name": "stdout",
     "output_type": "stream",
     "text": [
      "['Name', 'is', 'Bond', 'James', 'Bond']\n",
      "Enter length: 4\n"
     ]
    },
    {
     "data": {
      "text/plain": [
       "['James']"
      ]
     },
     "execution_count": 2,
     "metadata": {},
     "output_type": "execute_result"
    }
   ],
   "source": [
    "greaterthan(\"Name is Bond James Bond\")"
   ]
  },
  {
   "cell_type": "markdown",
   "metadata": {},
   "source": [
    "### 2. Write a Python program for removing i-th character from a string?"
   ]
  },
  {
   "cell_type": "code",
   "execution_count": 3,
   "metadata": {},
   "outputs": [],
   "source": [
    "def character_removal(sentence):\n",
    "    split = sentence.split(\" \")\n",
    "    i_th = int(input(\"Enter position: \"))\n",
    "    for i in split:\n",
    "        if split[i_th]==i:\n",
    "            split.remove(i)\n",
    "    sentence = \" \".join(split)\n",
    "    return sentence"
   ]
  },
  {
   "cell_type": "code",
   "execution_count": 4,
   "metadata": {},
   "outputs": [
    {
     "name": "stdout",
     "output_type": "stream",
     "text": [
      "Enter position: 3\n"
     ]
    },
    {
     "data": {
      "text/plain": [
       "'and his name John Cena'"
      ]
     },
     "execution_count": 4,
     "metadata": {},
     "output_type": "execute_result"
    }
   ],
   "source": [
    "character_removal(\"and his name is John Cena\")"
   ]
  },
  {
   "cell_type": "markdown",
   "metadata": {},
   "source": [
    "### 3. Write a Python program to split and join a string?"
   ]
  },
  {
   "cell_type": "code",
   "execution_count": 5,
   "metadata": {},
   "outputs": [],
   "source": [
    "def split_join(sentence):\n",
    "    split = sentence.split()\n",
    "    print(\"Splited sentence: \",split)\n",
    "    join  = ' '.join(split)\n",
    "    print(\"sentence joined is: \",join)"
   ]
  },
  {
   "cell_type": "code",
   "execution_count": 6,
   "metadata": {},
   "outputs": [
    {
     "name": "stdout",
     "output_type": "stream",
     "text": [
      "Splited sentence:  ['and', 'his', 'name', 'is', 'John', 'Cena']\n",
      "sentence joined is:  and his name is John Cena\n"
     ]
    }
   ],
   "source": [
    "split_join(\"and his name is John Cena\")"
   ]
  },
  {
   "cell_type": "markdown",
   "metadata": {},
   "source": [
    "### 4. Write a Python to check if a given string is binary string or not?"
   ]
  },
  {
   "cell_type": "code",
   "execution_count": 7,
   "metadata": {},
   "outputs": [],
   "source": [
    "def binary_check(string):\n",
    "    arrange = set(string)\n",
    "    binary = {'0','1'}\n",
    "    \n",
    "    if binary == arrange or arrange=={'0'} or arrange == {'1'}:\n",
    "        print(\"String is binary\")\n",
    "    else:\n",
    "        print(\"String not binary\")"
   ]
  },
  {
   "cell_type": "code",
   "execution_count": 8,
   "metadata": {},
   "outputs": [
    {
     "name": "stdout",
     "output_type": "stream",
     "text": [
      "String is binary\n"
     ]
    }
   ],
   "source": [
    "binary_check(\"010101\")"
   ]
  },
  {
   "cell_type": "code",
   "execution_count": 9,
   "metadata": {},
   "outputs": [
    {
     "name": "stdout",
     "output_type": "stream",
     "text": [
      "String not binary\n"
     ]
    }
   ],
   "source": [
    "binary_check(\"John\")"
   ]
  },
  {
   "cell_type": "markdown",
   "metadata": {},
   "source": [
    "### 5. Write a Python program to find uncommon words from two Strings?"
   ]
  },
  {
   "cell_type": "code",
   "execution_count": 10,
   "metadata": {},
   "outputs": [
    {
     "name": "stdout",
     "output_type": "stream",
     "text": [
      "Enter String: john cena\n",
      "Enter String: james bond\n",
      "['john', 'cena'] \n",
      " ['james', 'bond']\n",
      "['john', 'cena', 'james', 'bond']\n"
     ]
    }
   ],
   "source": [
    "string1 = str(input(\"Enter String: \"))\n",
    "string2 = str(input(\"Enter String: \"))\n",
    "a = string1.split()\n",
    "b = string2.split()\n",
    "print(a,\"\\n\", b)\n",
    "UC = []\n",
    "for i in a:\n",
    "    if i not in b:\n",
    "        UC.append(i)\n",
    "for j in b:\n",
    "    if j not in a:\n",
    "        UC.append(j)\n",
    "print(UC)\n",
    "    \n"
   ]
  },
  {
   "cell_type": "markdown",
   "metadata": {},
   "source": [
    "### 6. Write a Python to find all duplicate characters in string?"
   ]
  },
  {
   "cell_type": "code",
   "execution_count": 11,
   "metadata": {},
   "outputs": [
    {
     "name": "stdout",
     "output_type": "stream",
     "text": [
      "Enter string:  andhisnameisjohncena\n",
      "Duplicate characters are:  ['n', 'a', 'i', 's', 'h', 'n', 'e', 'n', 'a']\n"
     ]
    }
   ],
   "source": [
    "string = str(input(\"Enter string:  \"))\n",
    "char = []\n",
    "duplicate = []\n",
    "for i in string:\n",
    "    if i  not in char:\n",
    "        char.append(i)\n",
    "    else:\n",
    "        duplicate.append(i)\n",
    "print(\"Duplicate characters are: \" ,duplicate)\n",
    "\n",
    "\n"
   ]
  },
  {
   "cell_type": "markdown",
   "metadata": {},
   "source": [
    "### 7. Write a Python Program to check if a string contains any special character?"
   ]
  },
  {
   "cell_type": "code",
   "execution_count": 12,
   "metadata": {},
   "outputs": [
    {
     "name": "stdout",
     "output_type": "stream",
     "text": [
      "Enter string: and his name i$ john cen@\n",
      "Special Char $ found in given string\n",
      "Special Char @ found in given string\n"
     ]
    }
   ],
   "source": [
    "spl_char = '[@_!#$%^&*()<>?/\\|}{~:]'\n",
    "string = str(input(\"Enter string: \"))\n",
    "\n",
    "for i in string:\n",
    "    if i not in spl_char:\n",
    "        continue\n",
    "        \n",
    "    else:\n",
    "        print(\"Special Char {} found in given string\".format(i))\n",
    "\n",
    "     \n",
    "    "
   ]
  },
  {
   "cell_type": "code",
   "execution_count": null,
   "metadata": {},
   "outputs": [],
   "source": []
  }
 ],
 "metadata": {
  "kernelspec": {
   "display_name": "Python 3",
   "language": "python",
   "name": "python3"
  },
  "language_info": {
   "codemirror_mode": {
    "name": "ipython",
    "version": 3
   },
   "file_extension": ".py",
   "mimetype": "text/x-python",
   "name": "python",
   "nbconvert_exporter": "python",
   "pygments_lexer": "ipython3",
   "version": "3.8.5"
  }
 },
 "nbformat": 4,
 "nbformat_minor": 4
}
