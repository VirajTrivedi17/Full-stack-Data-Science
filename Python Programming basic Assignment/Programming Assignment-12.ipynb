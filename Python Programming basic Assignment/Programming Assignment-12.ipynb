{
 "cells": [
  {
   "cell_type": "markdown",
   "metadata": {},
   "source": [
    "### 1. Write a Python program to Extract Unique values dictionary values?"
   ]
  },
  {
   "cell_type": "code",
   "execution_count": 1,
   "metadata": {},
   "outputs": [
    {
     "name": "stdout",
     "output_type": "stream",
     "text": [
      "['John', 'dean', 'james']\n"
     ]
    }
   ],
   "source": [
    "d = {'1':'John','2':'dean','3':'John','4':'dean','5':'james'}\n",
    "empty_list = []\n",
    "for val in d.values():\n",
    "    if val in empty_list:\n",
    "        continue\n",
    "    else:\n",
    "        empty_list.append(val)\n",
    "        \n",
    "print(empty_list)    \n",
    "    "
   ]
  },
  {
   "cell_type": "markdown",
   "metadata": {},
   "source": [
    "### 2. Write a Python program to find the sum of all items in a dictionary?"
   ]
  },
  {
   "cell_type": "code",
   "execution_count": 2,
   "metadata": {},
   "outputs": [
    {
     "name": "stdout",
     "output_type": "stream",
     "text": [
      "15\n"
     ]
    }
   ],
   "source": [
    "dict_1 = {'a':[0,1],'b':[2,3],'c':[4,5]}\n",
    "empty_list = []\n",
    "for i in dict_1.values():\n",
    "    for j in i:\n",
    "        empty_list.append(j)\n",
    "print(sum(empty_list))\n",
    "        \n"
   ]
  },
  {
   "cell_type": "markdown",
   "metadata": {},
   "source": [
    "### 3. Write a Python program to Merging two Dictionaries?"
   ]
  },
  {
   "cell_type": "code",
   "execution_count": 5,
   "metadata": {},
   "outputs": [
    {
     "data": {
      "text/plain": [
       "{'a': 1, 'b': 2, 'c': 3, 'd': 4, 'e': 5, 'f': 6}"
      ]
     },
     "execution_count": 5,
     "metadata": {},
     "output_type": "execute_result"
    }
   ],
   "source": [
    "dict_1 = {'a':1,'b':2,'c':3}\n",
    "dict_2 = {'d':4,'e':5,'f':6}\n",
    "dict_1.update(dict_2)\n",
    "dict_1"
   ]
  },
  {
   "cell_type": "markdown",
   "metadata": {},
   "source": [
    "### 4. Write a Python program to convert key-values list to flat dictionary?"
   ]
  },
  {
   "cell_type": "code",
   "execution_count": 10,
   "metadata": {},
   "outputs": [
    {
     "name": "stdout",
     "output_type": "stream",
     "text": [
      "List ['a', 100, 'b', 200, 'c', 300, 'd', 400, 'e', 500, 'f', 600] to \n",
      " Dictionary {'a': 100, 'b': 200, 'c': 300, 'd': 400, 'e': 500, 'f': 600}\n"
     ]
    }
   ],
   "source": [
    "list_ = ['a', 100, 'b', 200, 'c',300, 'd', 400, 'e', 500, 'f', 600]\n",
    "list_1= []\n",
    "list_2= []\n",
    "for i in range(0,len(list_),2):\n",
    "    list_1.append(list_[i])\n",
    "\n",
    "for j in range(1,len(list_),2):\n",
    "    if j not in list_1:\n",
    "        list_2.append(list_[j])\n",
    "\n",
    "d = dict(zip(list_1,list_2))\n",
    "print(\"List {} to \\n Dictionary {}\".format(list_,d))   \n"
   ]
  },
  {
   "cell_type": "markdown",
   "metadata": {},
   "source": [
    "### 5. Write a Python program to insertion at the beginning in OrderedDict?"
   ]
  },
  {
   "cell_type": "code",
   "execution_count": 11,
   "metadata": {},
   "outputs": [],
   "source": [
    "from collections import OrderedDict"
   ]
  },
  {
   "cell_type": "code",
   "execution_count": 15,
   "metadata": {},
   "outputs": [
    {
     "name": "stdout",
     "output_type": "stream",
     "text": [
      "OrderedDict([('a', 1), ('b', 2), ('c', 3), ('d', 4), ('e', 5), ('f', 6)])\n",
      "OrderedDict([('a', 1), ('b', 2), ('c', 3), ('d', 4), ('e', 5), ('f', 6), ('g', 7)])\n",
      "OrderedDict([('g', 7), ('a', 1), ('b', 2), ('c', 3), ('d', 4), ('e', 5), ('f', 6)])\n"
     ]
    }
   ],
   "source": [
    "d = {'a': 1, 'b': 2, 'c': 3, 'd': 4, 'e': 5, 'f': 6}\n",
    "od = OrderedDict(d)\n",
    "print(od)\n",
    "od['g'] = 7\n",
    "print(od)\n",
    "od.move_to_end('g', False)\n",
    "print(od)"
   ]
  },
  {
   "cell_type": "markdown",
   "metadata": {},
   "source": [
    "### 6. Write a Python program to check order of character in string using OrderedDict()?"
   ]
  },
  {
   "cell_type": "code",
   "execution_count": 16,
   "metadata": {},
   "outputs": [
    {
     "name": "stdout",
     "output_type": "stream",
     "text": [
      "{'a': 11, 'f': 12, 'd': 13, 'c': 14, 'b': 15, 'e': 16}\n",
      "OrderedDict([('a', 11), ('b', 15), ('c', 14), ('d', 13), ('e', 16), ('f', 12)])\n"
     ]
    }
   ],
   "source": [
    "unordered = {'a': 11, 'f': 12, 'd': 13, 'c': 14, 'b': 15, 'e': 16}\n",
    "print(unordered)\n",
    "od = OrderedDict(sorted(unordered.items()))\n",
    "print(od)"
   ]
  },
  {
   "cell_type": "markdown",
   "metadata": {},
   "source": [
    "### 7. Write a Python program to sort Python Dictionaries by Key or Value?"
   ]
  },
  {
   "cell_type": "code",
   "execution_count": 17,
   "metadata": {},
   "outputs": [
    {
     "name": "stdout",
     "output_type": "stream",
     "text": [
      "Sorted by key:  [('a', 101), ('b', 501), ('c', 401), ('d', 301), ('e', 601), ('f', 201)]\n"
     ]
    }
   ],
   "source": [
    "d = {'a': 101, 'f': 201, 'd': 301, 'c': 401, 'b': 501, 'e': 601}\n",
    "sort = sorted(d.items())\n",
    "\n",
    "print(\"Sorted by key: \",sort)"
   ]
  },
  {
   "cell_type": "code",
   "execution_count": null,
   "metadata": {},
   "outputs": [],
   "source": []
  }
 ],
 "metadata": {
  "kernelspec": {
   "display_name": "Python 3",
   "language": "python",
   "name": "python3"
  },
  "language_info": {
   "codemirror_mode": {
    "name": "ipython",
    "version": 3
   },
   "file_extension": ".py",
   "mimetype": "text/x-python",
   "name": "python",
   "nbconvert_exporter": "python",
   "pygments_lexer": "ipython3",
   "version": "3.8.5"
  }
 },
 "nbformat": 4,
 "nbformat_minor": 4
}
