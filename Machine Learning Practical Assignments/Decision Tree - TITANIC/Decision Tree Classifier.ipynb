{
 "cells": [
  {
   "cell_type": "markdown",
   "id": "8b2de5d6",
   "metadata": {},
   "source": [
    "<h1 align='center'>Titanic Data Set - Model Building"
   ]
  },
  {
   "cell_type": "markdown",
   "id": "32dcab3f",
   "metadata": {},
   "source": [
    "## Importing Packages"
   ]
  },
  {
   "cell_type": "code",
   "execution_count": 1,
   "id": "f5e9b77e",
   "metadata": {},
   "outputs": [],
   "source": [
    "import numpy as np\n",
    "import pandas as pd\n",
    "\n",
    "import matplotlib.pyplot as plt\n",
    "%matplotlib inline\n",
    "import seaborn as sns\n",
    "\n",
    "from sklearn.model_selection import train_test_split\n",
    "\n",
    "from sklearn.tree import DecisionTreeClassifier\n",
    "from sklearn.linear_model import LogisticRegression \n",
    "from sklearn import metrics"
   ]
  },
  {
   "cell_type": "markdown",
   "id": "36d369b4",
   "metadata": {},
   "source": [
    "---"
   ]
  },
  {
   "cell_type": "markdown",
   "id": "12be0cf7",
   "metadata": {},
   "source": [
    "### Loading Dataset"
   ]
  },
  {
   "cell_type": "code",
   "execution_count": 2,
   "id": "8036f066",
   "metadata": {},
   "outputs": [
    {
     "data": {
      "text/html": [
       "<div>\n",
       "<style scoped>\n",
       "    .dataframe tbody tr th:only-of-type {\n",
       "        vertical-align: middle;\n",
       "    }\n",
       "\n",
       "    .dataframe tbody tr th {\n",
       "        vertical-align: top;\n",
       "    }\n",
       "\n",
       "    .dataframe thead th {\n",
       "        text-align: right;\n",
       "    }\n",
       "</style>\n",
       "<table border=\"1\" class=\"dataframe\">\n",
       "  <thead>\n",
       "    <tr style=\"text-align: right;\">\n",
       "      <th></th>\n",
       "      <th>Age</th>\n",
       "      <th>Sex</th>\n",
       "      <th>Pclass</th>\n",
       "      <th>Embarked</th>\n",
       "      <th>Family</th>\n",
       "      <th>Is_Alone</th>\n",
       "      <th>Survived</th>\n",
       "    </tr>\n",
       "  </thead>\n",
       "  <tbody>\n",
       "    <tr>\n",
       "      <th>0</th>\n",
       "      <td>22.0</td>\n",
       "      <td>1</td>\n",
       "      <td>3</td>\n",
       "      <td>2</td>\n",
       "      <td>1</td>\n",
       "      <td>0</td>\n",
       "      <td>0</td>\n",
       "    </tr>\n",
       "    <tr>\n",
       "      <th>1</th>\n",
       "      <td>38.0</td>\n",
       "      <td>0</td>\n",
       "      <td>1</td>\n",
       "      <td>0</td>\n",
       "      <td>1</td>\n",
       "      <td>0</td>\n",
       "      <td>1</td>\n",
       "    </tr>\n",
       "    <tr>\n",
       "      <th>2</th>\n",
       "      <td>26.0</td>\n",
       "      <td>0</td>\n",
       "      <td>3</td>\n",
       "      <td>2</td>\n",
       "      <td>0</td>\n",
       "      <td>1</td>\n",
       "      <td>1</td>\n",
       "    </tr>\n",
       "    <tr>\n",
       "      <th>3</th>\n",
       "      <td>35.0</td>\n",
       "      <td>0</td>\n",
       "      <td>1</td>\n",
       "      <td>2</td>\n",
       "      <td>1</td>\n",
       "      <td>0</td>\n",
       "      <td>1</td>\n",
       "    </tr>\n",
       "    <tr>\n",
       "      <th>4</th>\n",
       "      <td>35.0</td>\n",
       "      <td>1</td>\n",
       "      <td>3</td>\n",
       "      <td>2</td>\n",
       "      <td>0</td>\n",
       "      <td>1</td>\n",
       "      <td>0</td>\n",
       "    </tr>\n",
       "  </tbody>\n",
       "</table>\n",
       "</div>"
      ],
      "text/plain": [
       "    Age  Sex  Pclass  Embarked  Family  Is_Alone  Survived\n",
       "0  22.0    1       3         2       1         0         0\n",
       "1  38.0    0       1         0       1         0         1\n",
       "2  26.0    0       3         2       0         1         1\n",
       "3  35.0    0       1         2       1         0         1\n",
       "4  35.0    1       3         2       0         1         0"
      ]
     },
     "execution_count": 2,
     "metadata": {},
     "output_type": "execute_result"
    }
   ],
   "source": [
    "df = pd.read_csv('titanic_processed_data.csv')\n",
    "df.drop(\"Unnamed: 0\", axis=1, inplace=True)\n",
    "df.head()"
   ]
  },
  {
   "cell_type": "code",
   "execution_count": null,
   "id": "b3942ce8",
   "metadata": {},
   "outputs": [],
   "source": []
  },
  {
   "cell_type": "markdown",
   "id": "530d76c1",
   "metadata": {},
   "source": [
    "#### Checking for Balanced Dataset"
   ]
  },
  {
   "cell_type": "code",
   "execution_count": 3,
   "id": "eb43fba1",
   "metadata": {},
   "outputs": [
    {
     "name": "stdout",
     "output_type": "stream",
     "text": [
      "Died (%) : 0.6161616161616161\n",
      "Survived (%) : 0.3838383838383838\n"
     ]
    }
   ],
   "source": [
    "a = df[\"Survived\"].value_counts()\n",
    "# 0 = Not Survived\n",
    "# 1 = Survived\n",
    "\n",
    "print(f'Died (%) : {a[0] / df.shape[0]}')\n",
    "print(f'Survived (%) : {a[1] / df.shape[0]}')"
   ]
  },
  {
   "cell_type": "code",
   "execution_count": 4,
   "id": "54167528",
   "metadata": {},
   "outputs": [
    {
     "name": "stderr",
     "output_type": "stream",
     "text": [
      "C:\\Users\\Medly\\anaconda3\\lib\\site-packages\\seaborn\\_decorators.py:36: FutureWarning: Pass the following variable as a keyword arg: x. From version 0.12, the only valid positional argument will be `data`, and passing other arguments without an explicit keyword will result in an error or misinterpretation.\n",
      "  warnings.warn(\n"
     ]
    },
    {
     "data": {
      "image/png": "[encoded data removed]",
      "text/plain": [
       "<Figure size 720x360 with 1 Axes>"
      ]
     },
     "metadata": {
      "needs_background": "light"
     },
     "output_type": "display_data"
    }
   ],
   "source": [
    "plt.figure(figsize=(10,5))\n",
    "sns.set_style(\"darkgrid\")\n",
    "sns.countplot(np.ravel(df[\"Survived\"]))\n",
    "plt.yticks(range(0,500,50))\n",
    "\n",
    "plt.ylabel('Count')\n",
    "plt.xlabel('Survived')\n",
    "\n",
    "plt.show()"
   ]
  },
  {
   "cell_type": "markdown",
   "id": "d91e56c2",
   "metadata": {},
   "source": [
    "##### Making The Dataset Balance"
   ]
  },
  {
   "cell_type": "code",
   "execution_count": 5,
   "id": "7bce07e4",
   "metadata": {},
   "outputs": [],
   "source": [
    "X = df.drop(['Survived'], axis=1)\n",
    "Y = df['Survived']"
   ]
  },
  {
   "cell_type": "code",
   "execution_count": 6,
   "id": "8e376825",
   "metadata": {},
   "outputs": [],
   "source": [
    "# from imblearn.random_sampling  import RandomOverSampler\n",
    "from imblearn.over_sampling import RandomOverSampler\n",
    "\n",
    "rdm=RandomOverSampler()\n",
    "X,y=rdm.fit_resample(X,Y)\n",
    "\n",
    "df = pd.concat([X,y],axis=1)  #updating the balanced form of dataset"
   ]
  },
  {
   "cell_type": "code",
   "execution_count": null,
   "id": "1aa5f9da",
   "metadata": {},
   "outputs": [],
   "source": []
  },
  {
   "cell_type": "code",
   "execution_count": 7,
   "id": "654f9159",
   "metadata": {},
   "outputs": [
    {
     "name": "stdout",
     "output_type": "stream",
     "text": [
      "Died (%) : 0.5\n",
      "Survived (%) : 0.5\n"
     ]
    }
   ],
   "source": [
    "a = df[\"Survived\"].value_counts()\n",
    "\n",
    "print(f'Died (%) : {a[0] / df.shape[0]}')\n",
    "print(f'Survived (%) : {a[1] / df.shape[0]}')"
   ]
  },
  {
   "cell_type": "markdown",
   "id": "73a8bbf3",
   "metadata": {},
   "source": [
    "---"
   ]
  },
  {
   "cell_type": "markdown",
   "id": "e8f19c40",
   "metadata": {},
   "source": [
    "### Train Test Split"
   ]
  },
  {
   "cell_type": "code",
   "execution_count": 9,
   "id": "257cbf13",
   "metadata": {},
   "outputs": [],
   "source": [
    "X = df.drop(['Survived'], axis=1)\n",
    "Y = df['Survived']"
   ]
  },
  {
   "cell_type": "code",
   "execution_count": 10,
   "id": "0ea36fcb",
   "metadata": {},
   "outputs": [],
   "source": [
    "x_train,x_test,y_train,y_test = train_test_split(X,Y,train_size=0.8,random_state=1)"
   ]
  },
  {
   "cell_type": "code",
   "execution_count": 11,
   "id": "3f25e033",
   "metadata": {},
   "outputs": [
    {
     "name": "stdout",
     "output_type": "stream",
     "text": [
      "X-train size: 0.8\n",
      "X-test  size: 0.2\n"
     ]
    }
   ],
   "source": [
    "print(f'X-train size: {round(x_train.shape[0] / df.shape[0],2)}')\n",
    "print(f'X-test  size: {round(x_test.shape[0] / df.shape[0],2)}')"
   ]
  },
  {
   "cell_type": "markdown",
   "id": "87060b1b",
   "metadata": {},
   "source": [
    "### Implementing the VANILA Model"
   ]
  },
  {
   "cell_type": "code",
   "execution_count": 12,
   "id": "9acd7c64",
   "metadata": {},
   "outputs": [
    {
     "data": {
      "text/plain": [
       "DecisionTreeClassifier()"
      ]
     },
     "execution_count": 12,
     "metadata": {},
     "output_type": "execute_result"
    }
   ],
   "source": [
    "d_tree_classifier = DecisionTreeClassifier()\n",
    "d_tree_classifier.fit(x_train, y_train)"
   ]
  },
  {
   "cell_type": "code",
   "execution_count": 13,
   "id": "e1ddbf26",
   "metadata": {},
   "outputs": [],
   "source": [
    "y_predicted = d_tree_classifier.predict(x_test)\n",
    "y_train_predicted = d_tree_classifiwer.predict(x_train)"
   ]
  },
  {
   "cell_type": "code",
   "execution_count": null,
   "id": "700eca19",
   "metadata": {},
   "outputs": [],
   "source": []
  },
  {
   "cell_type": "markdown",
   "id": "b1ef318d",
   "metadata": {},
   "source": [
    "### Evaluating the Model"
   ]
  },
  {
   "cell_type": "code",
   "execution_count": 14,
   "id": "0a49c163",
   "metadata": {},
   "outputs": [],
   "source": [
    "from sklearn.metrics import accuracy_score, confusion_matrix,roc_curve,classification_report"
   ]
  },
  {
   "cell_type": "code",
   "execution_count": 15,
   "id": "874d3d1b",
   "metadata": {},
   "outputs": [
    {
     "name": "stdout",
     "output_type": "stream",
     "text": [
      "Train set accuracy score:  0.9373576309794989\n",
      "Test set accuracy score : 0.8090909090909091\n"
     ]
    }
   ],
   "source": [
    "print(\"Train set accuracy score: \",accuracy_score(y_train,y_train_predicted))\n",
    "print(\"Test set accuracy score :\",  accuracy_score(y_test,y_predicted))"
   ]
  },
  {
   "cell_type": "markdown",
   "id": "ed3858b1",
   "metadata": {},
   "source": [
    "<pre><b>As we see there is not large deviation between dataset hence model is in normal state."
   ]
  },
  {
   "cell_type": "code",
   "execution_count": 16,
   "id": "12de918d",
   "metadata": {},
   "outputs": [
    {
     "name": "stdout",
     "output_type": "stream",
     "text": [
      "Confusion Matix \n",
      "[[88 19]\n",
      " [23 90]]\n"
     ]
    }
   ],
   "source": [
    "from sklearn.metrics import confusion_matrix\n",
    "print(f'Confusion Matix \\n{confusion_matrix(y_test,y_predicted)}')"
   ]
  },
  {
   "cell_type": "markdown",
   "id": "6e4fd56c",
   "metadata": {},
   "source": [
    "<pre>\n",
    "        | 1 |      88(TP)  19(FN)\n",
    "ACTUAL  |   |\n",
    "        | 0 |      23(FP)  90(FP)\n",
    "               --------------------\n",
    "                  |  1   |   0 |\n",
    "               --------------------\n",
    "                  PREDICTED"
   ]
  },
  {
   "cell_type": "code",
   "execution_count": 17,
   "id": "c378f50d",
   "metadata": {},
   "outputs": [
    {
     "name": "stdout",
     "output_type": "stream",
     "text": [
      "Classification Report \n",
      "              precision    recall  f1-score   support\n",
      "\n",
      "           0       0.79      0.82      0.81       107\n",
      "           1       0.83      0.80      0.81       113\n",
      "\n",
      "    accuracy                           0.81       220\n",
      "   macro avg       0.81      0.81      0.81       220\n",
      "weighted avg       0.81      0.81      0.81       220\n",
      "\n"
     ]
    }
   ],
   "source": [
    "from sklearn.metrics import classification_report\n",
    "print(f'Classification Report \\n{classification_report(y_test,y_predicted)}')"
   ]
  },
  {
   "cell_type": "markdown",
   "id": "f246821f",
   "metadata": {},
   "source": [
    "---"
   ]
  },
  {
   "cell_type": "markdown",
   "id": "220ef4b6",
   "metadata": {},
   "source": [
    "### Model Testing"
   ]
  },
  {
   "cell_type": "code",
   "execution_count": 18,
   "id": "0767c007",
   "metadata": {},
   "outputs": [
    {
     "data": {
      "text/plain": [
       "array([1], dtype=int64)"
      ]
     },
     "execution_count": 18,
     "metadata": {},
     "output_type": "execute_result"
    }
   ],
   "source": [
    "d_tree_classifier.predict(np.array([[15,0,2,2,5,1]]))"
   ]
  },
  {
   "cell_type": "code",
   "execution_count": 19,
   "id": "75a51ea5",
   "metadata": {},
   "outputs": [
    {
     "data": {
      "text/plain": [
       "Index(['Age', 'Sex', 'Pclass', 'Embarked', 'Family', 'Is_Alone', 'Survived'], dtype='object')"
      ]
     },
     "execution_count": 19,
     "metadata": {},
     "output_type": "execute_result"
    }
   ],
   "source": [
    "df.columns"
   ]
  },
  {
   "cell_type": "markdown",
   "id": "d585b11e",
   "metadata": {},
   "source": [
    "---"
   ]
  },
  {
   "cell_type": "markdown",
   "id": "592a2d19",
   "metadata": {},
   "source": [
    "### Pickle File For Deployment"
   ]
  },
  {
   "cell_type": "code",
   "execution_count": 20,
   "id": "2ed3e2ee",
   "metadata": {},
   "outputs": [],
   "source": [
    "import pickle\n",
    "\n",
    "# Open a file \n",
    "file = open('d_tree_classifier.pkl', 'wb')\n",
    "\n",
    "# dump information to that file\n",
    "pickle.dump(d_tree_classifier,file)"
   ]
  },
  {
   "cell_type": "code",
   "execution_count": 21,
   "id": "8cc6218b",
   "metadata": {},
   "outputs": [
    {
     "data": {
      "text/plain": [
       "1"
      ]
     },
     "execution_count": 21,
     "metadata": {},
     "output_type": "execute_result"
    }
   ],
   "source": [
    "import pickle\n",
    "import numpy as np\n",
    "\n",
    "d = np.array([15,0,2,2,5,1]).reshape(1,-1)\n",
    "\n",
    "model = pickle.load(open('d_tree_classifier.pkl', 'rb'))\n",
    "prediction = model.predict(d)\n",
    "output = prediction[0]\n",
    "output"
   ]
  },
  {
   "cell_type": "markdown",
   "id": "14d99d94",
   "metadata": {},
   "source": [
    "---"
   ]
  }
 ],
 "metadata": {
  "kernelspec": {
   "display_name": "Python 3",
   "language": "python",
   "name": "python3"
  },
  "language_info": {
   "codemirror_mode": {
    "name": "ipython",
    "version": 3
   },
   "file_extension": ".py",
   "mimetype": "text/x-python",
   "name": "python",
   "nbconvert_exporter": "python",
   "pygments_lexer": "ipython3",
   "version": "3.8.8"
  }
 },
 "nbformat": 4,
 "nbformat_minor": 5
}
