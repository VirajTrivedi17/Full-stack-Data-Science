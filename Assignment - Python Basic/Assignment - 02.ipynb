{
 "cells": [
  {
   "cell_type": "markdown",
   "metadata": {},
   "source": [
    "<h1 align=\"center\">Assignment 2</h1>"
   ]
  },
  {
   "cell_type": "markdown",
   "metadata": {},
   "source": [
    "<h3>Q1</h3>\n",
    "<b>What are the two values of the Boolean data type? How do you write them?"
   ]
  },
  {
   "cell_type": "markdown",
   "metadata": {},
   "source": [
    "Two values of Boolean Datatype are True and False.\n",
    "\n",
    "The Boolean DataType is generally used in conditional statements\n",
    "\n",
    "\n",
    "For Example:\n",
    "\n",
    "\n",
    "\n",
    "    a = 23\n",
    "    if a == 23:\n",
    "        print('A is 23')\n",
    "    else:\n",
    "        print('A is not equal to 23')\n"
   ]
  },
  {
   "cell_type": "markdown",
   "metadata": {},
   "source": [
    "---"
   ]
  },
  {
   "cell_type": "markdown",
   "metadata": {},
   "source": [
    "<h3>Q2</h3>\n",
    "<b>What are the three different types of Boolean operators?"
   ]
  },
  {
   "cell_type": "markdown",
   "metadata": {},
   "source": [
    "<pre>\n",
    "Basically there are 3 Boolean Operators:\n",
    "    1. Logical AND (and)\n",
    "    2. Logical OR (or)\n",
    "    3. Logical NOT (not)"
   ]
  },
  {
   "cell_type": "markdown",
   "metadata": {},
   "source": [
    "---"
   ]
  },
  {
   "cell_type": "markdown",
   "metadata": {},
   "source": [
    "<h3>Q3</h3>\n",
    "<b>Make a list of each Boolean operator's truth tables (i.e. every possible combination of Boolean values for the operator and what it evaluate )."
   ]
  },
  {
   "cell_type": "code",
   "execution_count": 1,
   "metadata": {},
   "outputs": [
    {
     "name": "stdout",
     "output_type": "stream",
     "text": [
      "AND OPERATION\n",
      " A  B O/P\n",
      "[0, 0, 0]\n",
      "[0, 1, 0]\n",
      "[1, 0, 0]\n",
      "[1, 1, 1]\n",
      "\n",
      "OR OPERATION\n",
      " A  B O/P\n",
      "[0, 0, 0]\n",
      "[0, 1, 1]\n",
      "[1, 0, 1]\n",
      "[1, 1, 1]\n",
      "\n",
      "NOT OPERATION\n",
      " A O/P\n",
      "[0, 1]\n",
      "[1, 0]\n"
     ]
    }
   ],
   "source": [
    "and_list = [[0,0,0],[0,1,0],[1,0,0], [1,1,1]]\n",
    "print(\"AND OPERATION\\n A  B O/P\")\n",
    "for i in and_list:\n",
    "            print(i)\n",
    "\n",
    "or_list = [[0,0,0],[0,1,1],[1,0,1], [1,1,1]]\n",
    "print(\"\\nOR OPERATION\\n A  B O/P\")\n",
    "for i in or_list:\n",
    "            print(i)\n",
    "\n",
    "or_list = [[0,1],[1,0]]\n",
    "print(\"\\nNOT OPERATION\\n A O/P\")\n",
    "for i in or_list:\n",
    "            print(i)"
   ]
  },
  {
   "cell_type": "markdown",
   "metadata": {},
   "source": [
    "---"
   ]
  },
  {
   "cell_type": "markdown",
   "metadata": {},
   "source": [
    "<h3>Q4</h3>\n",
    "<b>What are the values of the following expressions?</b><br>\n",
    "    <pre>\n",
    "    - (5 > 4) and (3 == 5) <br>\n",
    "    - not (5 > 4)<br>\n",
    "    - (5 > 4) or (3 == 5)<br>\n",
    "    - not ((5 > 4) or (3 == 5))<br>\n",
    "    - (True and True) and (True == False)<br>\n",
    "    - (not False) or (not True)"
   ]
  },
  {
   "cell_type": "code",
   "execution_count": 2,
   "metadata": {},
   "outputs": [
    {
     "name": "stdout",
     "output_type": "stream",
     "text": [
      "(5 > 4) and (3 == 5) --> False\n",
      "not (5 > 4) --> False\n",
      "(5 > 4) or (3 == 5) --> True\n",
      "not ((5 > 4) or (3 == 5)) --> False\n",
      "(True and True) and (True == False) --> False\n",
      "(not False) or (not True) --> True\n"
     ]
    }
   ],
   "source": [
    "print(f\"(5 > 4) and (3 == 5) --> {(5 > 4) and (3 == 5)}\")\n",
    "print(f\"not (5 > 4) --> {not (5 > 4)}\")\n",
    "print(f\"(5 > 4) or (3 == 5) --> {(5 > 4) or (3 == 5)}\")\n",
    "print(f\"not ((5 > 4) or (3 == 5)) --> {not ((5 > 4) or (3 == 5))}\")\n",
    "print(f\"(True and True) and (True == False) --> {(True and True) and (True == False)}\")\n",
    "print(f\"(not False) or (not True) --> {(not False) or (not True)}\")"
   ]
  },
  {
   "cell_type": "markdown",
   "metadata": {},
   "source": [
    "---"
   ]
  },
  {
   "cell_type": "markdown",
   "metadata": {},
   "source": [
    "<h3>Q5</h3>\n",
    "<b>What are the six comparison operators?"
   ]
  },
  {
   "cell_type": "markdown",
   "metadata": {},
   "source": [
    "Comparision Operators are:\n",
    "\n",
    "\n",
    "    1. ==  --> Equals to Operator\n",
    "    2. !=  --> Not Equals to Operator\n",
    "    \n",
    "    3. < --> Less than Operator\n",
    "    4. > --> Greater than Operator\n",
    "    \n",
    "    5. <= --> Less than or Equals to Operator\n",
    "    6. >= --> Greater than or Equals to Operator"
   ]
  },
  {
   "cell_type": "markdown",
   "metadata": {},
   "source": [
    "---"
   ]
  },
  {
   "cell_type": "markdown",
   "metadata": {},
   "source": [
    "<h3>Q6</h3>\n",
    "<b>How do you tell the difference between the equal to and assignment operators?<br>Describe a condition and when you would use one"
   ]
  },
  {
   "cell_type": "markdown",
   "metadata": {},
   "source": [
    "<pre>\n",
    "The Basic Difference between the Equal to Operator and the Assignment Operator is is that \n",
    "the Equals to Operator has double equals to symbol (==).\n",
    "Assignment Operator have a single equal to symbol (=).\n",
    "\n",
    "Equals to Operator is used for for comparision purpose\n",
    "and\n",
    "Assignment Operator is used for assigning values to the Variable\n",
    "\n",
    "For example:\n",
    "\n",
    "\n",
    "Assignment Operator Statement\n",
    "\n",
    "a = 10\n",
    "\n",
    "Equals to Operator :\n",
    "\n",
    "if a == 10:\n",
    "    print('Value of a is 10')\n",
    "else:\n",
    "    print('Value of a is not equal to 10')\n",
    "\n",
    "output Value of a is 10"
   ]
  },
  {
   "cell_type": "markdown",
   "metadata": {},
   "source": [
    "---"
   ]
  },
  {
   "cell_type": "markdown",
   "metadata": {},
   "source": [
    "<h3>Q7</h3>\n",
    "<b>Identify the three blocks in this code:</b>\n",
    "<pre>\n",
    "spam = 0 \n",
    "\n",
    "if spam == 10:\n",
    "    print(\"eggs\")  \n",
    "\n",
    "if spam > 5:\n",
    "    print(\"bacon\")\n",
    "else:\n",
    "    print(\"ham\")\n",
    "    print(\"spam\")\n",
    "    print(\"spam\")\n",
    "    \n",
    "    --------------------------------------------"
   ]
  },
  {
   "cell_type": "markdown",
   "metadata": {},
   "source": [
    "<pre>\n",
    "<b>FIRST BLOCK OF CODE</b>\n",
    "<b>Assignment Operation</b>\n",
    "spam = 0 \n",
    "\n",
    "<b>SECOND BLOCK OF CODE</b>\n",
    "<b>If Condition</b>\n",
    "if spam == 10:\n",
    "    print(\"eggs\")  \n",
    "\n",
    "<b>THIRD BLOCK OF CODE</b>\n",
    "<b>Condition Checking with IF-ELSE Block</b>\n",
    "if spam > 5:\n",
    "    print(\"bacon\")\n",
    "else:\n",
    "    print(\"ham\")\n",
    "    print(\"spam\")\n",
    "    print(\"spam\")"
   ]
  },
  {
   "cell_type": "markdown",
   "metadata": {},
   "source": [
    "---"
   ]
  },
  {
   "cell_type": "markdown",
   "metadata": {},
   "source": [
    "<h3>Q8</h3>\n",
    "<b>Write code that </b>\n",
    "    <pre>\n",
    "    prints Hello if 1 is stored in spam, <br>\n",
    "    prints Howdy if 2 is stored in spam, <br>\n",
    "    and prints Greetings! if anything else is stored in spam."
   ]
  },
  {
   "cell_type": "code",
   "execution_count": 3,
   "metadata": {},
   "outputs": [
    {
     "name": "stdout",
     "output_type": "stream",
     "text": [
      "Greetings!!!\n"
     ]
    }
   ],
   "source": [
    "spam = -1\n",
    "\n",
    "if spam ==1:\n",
    "    print(\"Hello\")\n",
    "elif spam ==2:\n",
    "    print('Howdy')\n",
    "else:\n",
    "    print('Greetings!!!')"
   ]
  },
  {
   "cell_type": "markdown",
   "metadata": {},
   "source": [
    "---"
   ]
  },
  {
   "cell_type": "markdown",
   "metadata": {},
   "source": [
    "<h3>Q9</h3>\n",
    "<b>If your programme is stuck in an endless loop, what keys you’ll press?"
   ]
  },
  {
   "cell_type": "markdown",
   "metadata": {},
   "source": [
    "<pre>Press <b>CTRL + C</b> key command to exit from the endless loop"
   ]
  },
  {
   "cell_type": "markdown",
   "metadata": {},
   "source": [
    "---"
   ]
  },
  {
   "cell_type": "markdown",
   "metadata": {},
   "source": [
    "<h3>Q10</h3>\n",
    "<b>How can you tell the difference between break and continue?"
   ]
  },
  {
   "cell_type": "markdown",
   "metadata": {},
   "source": [
    "Break:\n",
    "\n",
    "statement breaks or leave the execution of the conditional loop execution.\n",
    "    \n",
    "Continue:\n",
    "\n",
    "    it leaves the current iteration values for execution BUT continues from the next iterable object\n",
    "   \n"
   ]
  },
  {
   "cell_type": "code",
   "execution_count": 5,
   "metadata": {},
   "outputs": [
    {
     "name": "stdout",
     "output_type": "stream",
     "text": [
      "Current Value of i = 1\n",
      "Current Value of i = 2\n",
      "Current Value of i = 3\n",
      "Current Value of i = 4\n"
     ]
    }
   ],
   "source": [
    "# For Example: \n",
    "\n",
    "\n",
    "list_break = [1,2,3,4,5,6]\n",
    "\n",
    "for i in list_break:\n",
    "    if i == 5:\n",
    "        break\n",
    "    else:\n",
    "        print(f\"Current Value of i = {i}\")"
   ]
  },
  {
   "cell_type": "code",
   "execution_count": 6,
   "metadata": {},
   "outputs": [
    {
     "name": "stdout",
     "output_type": "stream",
     "text": [
      "Current Value of i = 1\n",
      "Current Value of i = 2\n",
      "Current Value of i = 3\n",
      "Current Value of i = 4\n",
      "Current Value of i = 6\n"
     ]
    }
   ],
   "source": [
    "list_continue = [1,2,3,4,5,6]\n",
    "\n",
    "for i in list_break:\n",
    "    if i == 5:\n",
    "        continue\n",
    "    else:\n",
    "        print(f\"Current Value of i = {i}\")"
   ]
  },
  {
   "cell_type": "markdown",
   "metadata": {},
   "source": [
    "---"
   ]
  },
  {
   "cell_type": "markdown",
   "metadata": {},
   "source": [
    "<h3>Q11</h3>\n",
    "<b>In a for loop, what is the difference between range(10), range(0, 10), and range(0, 10, 1)?¶"
   ]
  },
  {
   "cell_type": "markdown",
   "metadata": {},
   "source": [
    "<pre>\n",
    "There is no difference in \n",
    "    range(10)\n",
    "    range(0,10)\n",
    "    range(0,10,1)\n",
    "\n"
   ]
  },
  {
   "cell_type": "code",
   "execution_count": 8,
   "metadata": {},
   "outputs": [
    {
     "name": "stdout",
     "output_type": "stream",
     "text": [
      "Current Value of i = 0\n",
      "Current Value of i = 1\n",
      "Current Value of i = 2\n",
      "Current Value of i = 3\n",
      "Current Value of i = 4\n",
      "Current Value of i = 5\n",
      "Current Value of i = 6\n",
      "Current Value of i = 7\n",
      "Current Value of i = 8\n",
      "Current Value of i = 9\n",
      "\n",
      "Current Value of i = 0\n",
      "Current Value of i = 1\n",
      "Current Value of i = 2\n",
      "Current Value of i = 3\n",
      "Current Value of i = 4\n",
      "Current Value of i = 5\n",
      "Current Value of i = 6\n",
      "Current Value of i = 7\n",
      "Current Value of i = 8\n",
      "Current Value of i = 9\n",
      "\n",
      "Current Value of i = 0\n",
      "Current Value of i = 1\n",
      "Current Value of i = 2\n",
      "Current Value of i = 3\n",
      "Current Value of i = 4\n",
      "Current Value of i = 5\n",
      "Current Value of i = 6\n",
      "Current Value of i = 7\n",
      "Current Value of i = 8\n",
      "Current Value of i = 9\n"
     ]
    }
   ],
   "source": [
    "# Example\n",
    "\n",
    "for i in range(10):\n",
    "    print(f'Current Value of i = {i}')\n",
    "\n",
    "print(\"\") # NOT FOR ANY USE\n",
    "\n",
    "for i in range(0,10):\n",
    "    print(f'Current Value of i = {i}')\n",
    "\n",
    "print(\"\") # NOT FOR ANY USE\n",
    "\n",
    "for i in range(0,10,1):\n",
    "    print(f'Current Value of i = {i}')\n"
   ]
  },
  {
   "cell_type": "markdown",
   "metadata": {},
   "source": [
    "---"
   ]
  },
  {
   "cell_type": "markdown",
   "metadata": {},
   "source": [
    "<h3>Q12</h3>\n",
    "<b> Write a short program that prints the numbers 1 to 10 using a for loop.<br>\n",
    "    Then write an equivalent program that prints the numbers 1 to 10 using a while loop"
   ]
  },
  {
   "cell_type": "code",
   "execution_count": 9,
   "metadata": {},
   "outputs": [
    {
     "name": "stdout",
     "output_type": "stream",
     "text": [
      "USING FOR LOOP\n",
      "0\n",
      "1\n",
      "2\n",
      "3\n",
      "4\n",
      "5\n",
      "6\n",
      "7\n",
      "8\n",
      "9\n",
      "\n",
      "USING WHILE LOOP\n",
      "0\n",
      "1\n",
      "2\n",
      "3\n",
      "4\n",
      "5\n",
      "6\n",
      "7\n",
      "8\n",
      "9\n"
     ]
    }
   ],
   "source": [
    "print('USING FOR LOOP')\n",
    "for i in range(10):\n",
    "    print(i)\n",
    "\n",
    "print('\\nUSING WHILE LOOP')\n",
    "a=0\n",
    "while a < 10:\n",
    "    print(a)\n",
    "    a=a+1"
   ]
  },
  {
   "cell_type": "markdown",
   "metadata": {},
   "source": [
    "---"
   ]
  },
  {
   "cell_type": "markdown",
   "metadata": {},
   "source": [
    "<h3>Q13</h3>\n",
    "<b>If you had a function named bacon() inside a module named spam, how would you call it after importing spam?"
   ]
  },
  {
   "cell_type": "markdown",
   "metadata": {},
   "source": [
    "\n",
    "\n",
    "#### importing spam\n",
    "\n",
    "import spam\n",
    "\n",
    "#### Calling the bacon function\n",
    "a = spam.bacon()"
   ]
  },
  {
   "cell_type": "code",
   "execution_count": null,
   "metadata": {},
   "outputs": [],
   "source": []
  }
 ],
 "metadata": {
  "kernelspec": {
   "display_name": "Python 3",
   "language": "python",
   "name": "python3"
  },
  "language_info": {
   "codemirror_mode": {
    "name": "ipython",
    "version": 3
   },
   "file_extension": ".py",
   "mimetype": "text/x-python",
   "name": "python",
   "nbconvert_exporter": "python",
   "pygments_lexer": "ipython3",
   "version": "3.8.5"
  }
 },
 "nbformat": 4,
 "nbformat_minor": 4
}
