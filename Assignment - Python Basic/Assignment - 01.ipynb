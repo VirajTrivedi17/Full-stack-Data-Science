{
 "cells": [
  {
   "cell_type": "markdown",
   "metadata": {},
   "source": [
    "<h1><center>Assignment 1</h1>"
   ]
  },
  {
   "cell_type": "markdown",
   "metadata": {},
   "source": [
    "<h3>Q1</h3>\n",
    "<b>In the below elements which of them are values or an expression? eg:- values can be\n",
    "integer or string and expressions will be mathematical operators.</b>\n",
    "\n",
    "1. <b>*</b>\n",
    "2. <b>\"hello\"</b>\n",
    "3. <b>-87.8</b>\n",
    "4. <b>-</b>\n",
    "5. <b>/</b>\n",
    "6. <b>+</b>\n",
    "7. <b>6</b>"
   ]
  },
  {
   "cell_type": "markdown",
   "metadata": {},
   "source": [
    "\n",
    "    1. *       --> is a Expression (Multiplication Operator)\n",
    "    2. \"Hello\" --> is a Value (String DataType)\n",
    "    3. -87.8   --> is a Value (Negative Integer)\n",
    "    4. -       --> is a Expression (Subtraction Operator)\n",
    "    5. /       --> is a Expression (Division Operator)\n",
    "    6. +       --> is a Expression (Addition Operator)\n",
    "    7. 6       --> is a Value (Positive Integer)\n"
   ]
  },
  {
   "cell_type": "markdown",
   "metadata": {},
   "source": [
    "---"
   ]
  },
  {
   "cell_type": "markdown",
   "metadata": {},
   "source": [
    "<h3>Q2</h3>\n",
    "<b>What is the difference between string and variable?</b>"
   ]
  },
  {
   "cell_type": "markdown",
   "metadata": {},
   "source": [
    "\n",
    "String is used for storing String Values\n",
    "For Example: \"xyz\"\n",
    "    So \"xyz\" is a String in Quotes\n",
    "\n",
    "Varibale is a kind of storage of information.\n",
    "It can store any datatype like string, int, float etc\n",
    "For Example num = 23\n",
    "    Here num is used for storing an integer value\n",
    "    \n",
    "    b = \"string\"\n",
    "    Here b is used for storing a String.\n",
    "    \n",
    "    c = 6+4j\n",
    "    Here c is storing an Complex value\n"
   ]
  },
  {
   "cell_type": "markdown",
   "metadata": {},
   "source": [
    "---"
   ]
  },
  {
   "cell_type": "markdown",
   "metadata": {},
   "source": [
    "<h3>Q3</h3>\n",
    "<b>Describe three different data types.</b>"
   ]
  },
  {
   "cell_type": "markdown",
   "metadata": {},
   "source": [
    "1) string\n",
    "2) Integer\n",
    "3) Float\n",
    "\n",
    "String : \n",
    "Example: s = 'XYZ'\n",
    "    s is a variable storing \"XYZ\" as String\n",
    "\n",
    "Integer\n",
    "Example: s = 23\n",
    "    s is a variable storing an Integer value \n",
    "\n",
    "Float\n",
    "Example: x = 23.23\n",
    "    x is a variable storing 23.23 as a float value\n"
   ]
  },
  {
   "cell_type": "markdown",
   "metadata": {},
   "source": [
    "---"
   ]
  },
  {
   "cell_type": "markdown",
   "metadata": {},
   "source": [
    "<h3>Q4</h3>\n",
    "<b>What is an expression made up of? What do all expressions do?</b>"
   ]
  },
  {
   "cell_type": "markdown",
   "metadata": {},
   "source": [
    "Expression is made up of different kind of Operators and methods based on the language we use.\n",
    "\n",
    "some example of Operators are:\n",
    "\n",
    "    Arithmetic Operators :: + - * / \n",
    "    \n",
    "    Comparision Operators :: < > <= >= == !=\n",
    "    \n",
    "    Logical Operators :: and or not\n",
    "\n",
    "\n",
    "Examples of Expression:\n",
    "As given an example of Expressions and Operators in Q1 which can be taken into consideration\n",
    "\n",
    "Ex1: \"John cena\" --- Expression\n",
    "\n",
    "Ex2: \"John \" * 2 Output: \"John John \"\n",
    "\n",
    "Ex3: 4+8 Output: 12\n",
    "\n",
    "\n",
    "As explained Expression is combination of Variables, Operators and Methods.\n",
    "It needs to be evluated/calulated\n",
    "When Python evaluates the expression, it displays the result of the expression "
   ]
  },
  {
   "cell_type": "markdown",
   "metadata": {},
   "source": [
    "---"
   ]
  },
  {
   "cell_type": "markdown",
   "metadata": {},
   "source": [
    "<h3>Q5</h3>\n",
    "<b>This assignment statements, like spam = 10. What is the difference between an expression and a statement? </b>"
   ]
  },
  {
   "cell_type": "markdown",
   "metadata": {},
   "source": [
    "\n",
    "Statement describes an element/object/variable.\n",
    "Print and Assignment Statement can be called as a Statement that represent an action\n",
    "Example :\n",
    "    print('Abc') output :  Abc\n",
    "Example :\n",
    "    x = 123\n",
    "    \n",
    "Also, spam = 10 is an example of Statement as value 10 is been assigned to variable \"spam\"\n",
    "\n",
    "---------------------------------------------------------------------------------------------------\n",
    "\n",
    "Expression is a combination of Variables, Operators and Methods to produce a result Value.\n",
    "Expression can also be reduced to a single value.\n",
    "\n",
    "Ex1: 4+1 output : 5\n"
   ]
  },
  {
   "cell_type": "markdown",
   "metadata": {},
   "source": [
    "---"
   ]
  },
  {
   "cell_type": "markdown",
   "metadata": {},
   "source": [
    "<h3>Q6</h3>\n",
    "<b>After running the following code, what does the variable bacon contain?</b><br>\n",
    "bacon = 22<br>\n",
    "bacon + 1"
   ]
  },
  {
   "cell_type": "code",
   "execution_count": 1,
   "metadata": {},
   "outputs": [],
   "source": [
    "bacon = 22"
   ]
  },
  {
   "cell_type": "code",
   "execution_count": 2,
   "metadata": {},
   "outputs": [
    {
     "data": {
      "text/plain": [
       "23"
      ]
     },
     "execution_count": 2,
     "metadata": {},
     "output_type": "execute_result"
    }
   ],
   "source": [
    "bacon + 1"
   ]
  },
  {
   "cell_type": "code",
   "execution_count": 3,
   "metadata": {},
   "outputs": [
    {
     "data": {
      "text/plain": [
       "22"
      ]
     },
     "execution_count": 3,
     "metadata": {},
     "output_type": "execute_result"
    }
   ],
   "source": [
    "bacon"
   ]
  },
  {
   "cell_type": "markdown",
   "metadata": {},
   "source": [
    "bacon at the start is assigned value 22\n",
    "\n",
    "bacon +1 is not assigned to the variable bacon, hence the variable of bacon will contain 22. "
   ]
  },
  {
   "cell_type": "markdown",
   "metadata": {},
   "source": [
    "---"
   ]
  },
  {
   "cell_type": "markdown",
   "metadata": {},
   "source": [
    "<h3>Q7</h3>\n",
    "<b>What should the values of the following two terms be?</b><br>\n",
    "'spam' + 'spamspam'<br>\n",
    "'spam' * 3"
   ]
  },
  {
   "cell_type": "code",
   "execution_count": 4,
   "metadata": {},
   "outputs": [
    {
     "data": {
      "text/plain": [
       "'spamspamspam'"
      ]
     },
     "execution_count": 4,
     "metadata": {},
     "output_type": "execute_result"
    }
   ],
   "source": [
    "'spam' + 'spamspam'"
   ]
  },
  {
   "cell_type": "code",
   "execution_count": 5,
   "metadata": {},
   "outputs": [
    {
     "data": {
      "text/plain": [
       "'spamspamspam'"
      ]
     },
     "execution_count": 5,
     "metadata": {},
     "output_type": "execute_result"
    }
   ],
   "source": [
    "'spam'*3"
   ]
  },
  {
   "cell_type": "markdown",
   "metadata": {},
   "source": [
    "The output of the two operations is the same"
   ]
  },
  {
   "cell_type": "markdown",
   "metadata": {},
   "source": [
    "---"
   ]
  },
  {
   "cell_type": "markdown",
   "metadata": {},
   "source": [
    "<h3>Q8</h3>\n",
    "<b>Why is eggs a valid variable name while 100 is invalid?"
   ]
  },
  {
   "cell_type": "markdown",
   "metadata": {},
   "source": [
    "A variable name never starts from numeric values, it starts from alphabets a-Zz.\n",
    "if we want to include numbers in the name of the variable then we can start the variable name with alphabets then use '_'\n",
    "and then use the numbers eg: eggs_100\n",
    "    \n",
    "Hence, egg is a valid variable name and 100 is invalid variable name"
   ]
  },
  {
   "cell_type": "markdown",
   "metadata": {},
   "source": [
    "---"
   ]
  },
  {
   "cell_type": "markdown",
   "metadata": {},
   "source": [
    "<h3>Q9</h3>\n",
    "<b>What three functions can be used to get the integer, floating-point number, or string version of a value?"
   ]
  },
  {
   "cell_type": "markdown",
   "metadata": {},
   "source": [
    "<pre>\n",
    "int()\n",
    "float()\n",
    "str()\n",
    "\n",
    "These are the three functions which is used to get Integer, FLoating-Point Number and String Version of a Value\n",
    "\n",
    "Example:\n",
    "\n",
    "\n",
    "\n"
   ]
  },
  {
   "cell_type": "code",
   "execution_count": 6,
   "metadata": {},
   "outputs": [
    {
     "name": "stdout",
     "output_type": "stream",
     "text": [
      "DataType: <class 'int'> \n",
      "\n",
      "DataType: <class 'float'>\n",
      "\n",
      "DataType: <class 'str'>\n"
     ]
    }
   ],
   "source": [
    "x = 23\n",
    "\n",
    "x_int = int(x)\n",
    "\n",
    "print(f'DataType: {type(x_int)} \\n')\n",
    "\n",
    "x_float = float(x)\n",
    "\n",
    "print(f'DataType: {type(x_float)}\\n')\n",
    "\n",
    "x_string = str(x)\n",
    "\n",
    "print(f'DataType: {type(x_string)}')"
   ]
  },
  {
   "cell_type": "markdown",
   "metadata": {},
   "source": [
    "---"
   ]
  },
  {
   "cell_type": "markdown",
   "metadata": {},
   "source": [
    "<h3>Q10</h3>\n",
    "<b>Why does this expression cause an error? How can you fix it?</b><br>\n",
    "'I have eaten ' + 99 + 'burritos.'"
   ]
  },
  {
   "cell_type": "code",
   "execution_count": 7,
   "metadata": {},
   "outputs": [
    {
     "ename": "TypeError",
     "evalue": "can only concatenate str (not \"int\") to str",
     "output_type": "error",
     "traceback": [
      "\u001b[1;31m---------------------------------------------------------------------------\u001b[0m",
      "\u001b[1;31mTypeError\u001b[0m                                 Traceback (most recent call last)",
      "\u001b[1;32m<ipython-input-7-d24137131a5c>\u001b[0m in \u001b[0;36m<module>\u001b[1;34m\u001b[0m\n\u001b[1;32m----> 1\u001b[1;33m \u001b[1;34m'I have eaten '\u001b[0m \u001b[1;33m+\u001b[0m \u001b[1;36m99\u001b[0m \u001b[1;33m+\u001b[0m \u001b[1;34m' burritos.'\u001b[0m\u001b[1;33m\u001b[0m\u001b[1;33m\u001b[0m\u001b[0m\n\u001b[0m",
      "\u001b[1;31mTypeError\u001b[0m: can only concatenate str (not \"int\") to str"
     ]
    }
   ],
   "source": [
    "'I have eaten ' + 99 + ' burritos.'"
   ]
  },
  {
   "cell_type": "markdown",
   "metadata": {},
   "source": [
    "Concatenation of str and int is not possible\n",
    "\n",
    "This can be fixed by converting the datatype of the number 99 to string"
   ]
  },
  {
   "cell_type": "code",
   "execution_count": 8,
   "metadata": {},
   "outputs": [
    {
     "data": {
      "text/plain": [
       "'I have eaten 99 burritos.'"
      ]
     },
     "execution_count": 8,
     "metadata": {},
     "output_type": "execute_result"
    }
   ],
   "source": [
    "'I have eaten ' + str(99) + ' burritos.'"
   ]
  },
  {
   "cell_type": "code",
   "execution_count": null,
   "metadata": {},
   "outputs": [],
   "source": []
  }
 ],
 "metadata": {
  "kernelspec": {
   "display_name": "Python 3",
   "language": "python",
   "name": "python3"
  },
  "language_info": {
   "codemirror_mode": {
    "name": "ipython",
    "version": 3
   },
   "file_extension": ".py",
   "mimetype": "text/x-python",
   "name": "python",
   "nbconvert_exporter": "python",
   "pygments_lexer": "ipython3",
   "version": "3.8.5"
  }
 },
 "nbformat": 4,
 "nbformat_minor": 4
}
